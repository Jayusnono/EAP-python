{
 "cells": [
  {
   "cell_type": "code",
   "execution_count": 21,
   "metadata": {},
   "outputs": [],
   "source": [
    "import numpy as np\n",
    "import pandas as pd\n",
    "import scipy.stats as stats\n",
    "import warnings"
   ]
  },
  {
   "cell_type": "code",
   "execution_count": 22,
   "metadata": {},
   "outputs": [],
   "source": [
    "warnings.filterwarnings('ignore')\n",
    "pd.set_option('precision', 2)"
   ]
  },
  {
   "cell_type": "code",
   "execution_count": 23,
   "metadata": {},
   "outputs": [],
   "source": [
    "# 读取原始数据\n",
    "msf_df = pd.read_sas(r\"C:\\Users\\86196\\Desktop\\资产定价复现\\data\\MSF_19252020.sas7bdat\",encoding='latin-1')"
   ]
  },
  {
   "cell_type": "markdown",
   "metadata": {},
   "source": [
    "数据清洗"
   ]
  },
  {
   "cell_type": "code",
   "execution_count": 24,
   "metadata": {},
   "outputs": [],
   "source": [
    "t0=pd.to_datetime('1970-01-01')\n",
    "t1=pd.to_datetime('2021-01-01')\n",
    "needcol=['PERMNO','DATE','RET','SHROUT','PRC','ALTPRC','EXCHCD','DLSTCD']\n",
    "\n",
    "# 选择所需时间段和所需列\n",
    "imsf=msf_df[(msf_df.DATE>=t0)&(msf_df.DATE<=t1)][needcol].copy()\n",
    "\n",
    "# 按日期和股票代码排序\n",
    "imsf.sort_values(by=['DATE', 'PERMNO'], inplace=True)\n",
    "\n",
    "# 去除重复数据\n",
    "imsf.drop_duplicates(subset=['PERMNO','DATE'],inplace=True)"
   ]
  },
  {
   "cell_type": "code",
   "execution_count": 25,
   "metadata": {},
   "outputs": [],
   "source": [
    "# 将时间都调整为每个月最后一天，方便后续处理\n",
    "imsf['DATE']+=pd.tseries.offsets.MonthEnd(0)\n",
    "\n",
    "# 丢弃缺失值\n",
    "testcol=['RET','SHROUT','PRC','ALTPRC']\n",
    "imsf.dropna(subset=testcol,inplace=True)\n",
    "\n",
    "# 退市处理，DLSTCD为500、520、551-574、582、584，RET为-0.3，其余值RET为-1\n",
    "bankrupt=list(range(551,575))+[500,520,582,584]\n",
    "imsf[imsf.DLSTCD.notna()].RET=-1\n",
    "imsf[imsf.DLSTCD.isin(bankrupt)].RET=-0.3"
   ]
  },
  {
   "attachments": {},
   "cell_type": "markdown",
   "metadata": {},
   "source": [
    "数据添加"
   ]
  },
  {
   "cell_type": "code",
   "execution_count": 26,
   "metadata": {},
   "outputs": [],
   "source": [
    "# 添加MktCap列\n",
    "imsf['MktCap']=imsf['ALTPRC'].abs()*imsf['SHROUT']/1000"
   ]
  },
  {
   "cell_type": "code",
   "execution_count": 27,
   "metadata": {},
   "outputs": [],
   "source": [
    "# 添加MktCap_FF列\n",
    "imsf['MktCap_FF']=np.nan\n",
    "imsf.loc[imsf.DATE.dt.month==6, 'MktCap_FF'] = imsf.loc[imsf.DATE.dt.month==6, 'MktCap']\n",
    "FF_group=imsf.groupby(['PERMNO', imsf['DATE'].dt.year - (imsf['DATE'].dt.month < 6)])\n",
    "\n",
    "imsf['MktCap_FF']=FF_group['MktCap_FF'].transform('first')"
   ]
  },
  {
   "cell_type": "code",
   "execution_count": 28,
   "metadata": {},
   "outputs": [],
   "source": [
    "# 引入CPI信息,来源于https://www.bls.gov/cpi/data.htm，已经处理过，成为以2020-12为基准CPI比例的时间序列\n",
    "CPII=pd.read_csv(r\"C:\\Users\\86196\\Desktop\\资产定价复现\\data\\CPII.csv\")\n",
    "CPII.columns=['date','CPII']\n",
    "CPII['date']=pd.to_datetime(CPII['date'])\n",
    "CPII=CPII.set_index('date')\n",
    "\n",
    "# 添加CPI列\n",
    "imsf['CPII'] = CPII.loc[imsf['DATE']]['CPII'].values\n",
    "imsf['MktCap_CPI']=imsf['MktCap']*imsf['CPII']\n",
    "imsf['MktCap_FF_CPI']=imsf['MktCap_FF']*imsf['CPII']"
   ]
  },
  {
   "cell_type": "code",
   "execution_count": 29,
   "metadata": {},
   "outputs": [],
   "source": [
    "# 添加Size列\n",
    "imsf['Size']=np.log(imsf['MktCap'])\n",
    "imsf['Size_FF']=np.log(imsf['MktCap_FF'])\n",
    "imsf['Size_CPI']=np.log(imsf['MktCap_CPI'])\n",
    "imsf['Size_FF_CPI']=np.log(imsf['MktCap_FF_CPI'])"
   ]
  },
  {
   "cell_type": "code",
   "execution_count": 30,
   "metadata": {},
   "outputs": [],
   "source": [
    "# 引入beta信息\n",
    "beta_df = pd.read_sas(r\"C:\\Users\\86196\\Desktop\\资产定价复现\\data\\Beta_12M_2020.sas7bdat\",encoding='latin-1')\n",
    "ib=beta_df[(beta_df.date>=t0)&(beta_df.date<=t1)].dropna(subset=['beta'])\n",
    "ib['date']+=pd.tseries.offsets.MonthEnd(0)\n",
    "\n",
    "# 合并imsf和ib\n",
    "imsf=imsf.merge(ib,how='left',left_on=['PERMNO','DATE'],right_on=['permno','date'])\n",
    "\n",
    "# 丢弃没有beta信息的数据\n",
    "imsf.dropna(subset=['beta'],inplace=True)"
   ]
  },
  {
   "cell_type": "code",
   "execution_count": 31,
   "metadata": {},
   "outputs": [],
   "source": [
    "# 丢弃不需要的列\n",
    "dropcol=['SHROUT', 'PRC', 'ALTPRC', 'DLSTCD','CPII','permno', 'date', 'signal','fdate']\n",
    "imsf.drop(columns=dropcol,inplace=True)"
   ]
  },
  {
   "cell_type": "code",
   "execution_count": 32,
   "metadata": {},
   "outputs": [],
   "source": [
    "# 引入市场信息,来源于https://mba.tuck.dartmouth.edu/pages/faculty/ken.french/data_library.html\n",
    "mkt_df=pd.read_csv(r\"C:\\Users\\86196\\Desktop\\资产定价复现\\data\\F-F_Research_Data_Factors.CSV\",nrows=1161)\n",
    "# 处理时序，并转为时间序列\n",
    "mkt_df=mkt_df.rename(columns={'Unnamed: 0':'Date'})\n",
    "mkt_df['Date']=pd.to_datetime(mkt_df['Date'],format='%Y%m') \n",
    "mkt_df['Date']=mkt_df['Date']+pd.tseries.offsets.MonthEnd(0)\n",
    "mkt_df=mkt_df.set_index('Date')"
   ]
  },
  {
   "cell_type": "code",
   "execution_count": 33,
   "metadata": {},
   "outputs": [],
   "source": [
    "# 添加ExRET列\n",
    "imsf['RF']=mkt_df.loc[imsf.DATE].RF.values\n",
    "imsf.RET*=100\n",
    "imsf['ExRET']=imsf.RET-imsf.RF"
   ]
  },
  {
   "cell_type": "code",
   "execution_count": 34,
   "metadata": {},
   "outputs": [],
   "source": [
    "# 添加ExRET_t+1列\n",
    "asist=imsf[['PERMNO','DATE','ExRET']].copy()\n",
    "asist['DATE']-=pd.tseries.offsets.MonthEnd(1)\n",
    "asist.columns=['PERMNO','DATE','ExRET_t+1']\n",
    "imsf=imsf.merge(asist,how='left',on=['PERMNO','DATE'])\n",
    "imsf.dropna(subset=['ExRET_t+1'],inplace=True)"
   ]
  },
  {
   "attachments": {},
   "cell_type": "markdown",
   "metadata": {},
   "source": [
    "数据展示及保存"
   ]
  },
  {
   "cell_type": "code",
   "execution_count": 35,
   "metadata": {},
   "outputs": [
    {
     "data": {
      "text/plain": [
       "(2852978, 16)"
      ]
     },
     "execution_count": 35,
     "metadata": {},
     "output_type": "execute_result"
    }
   ],
   "source": [
    "# 形状\n",
    "imsf.shape"
   ]
  },
  {
   "cell_type": "code",
   "execution_count": 36,
   "metadata": {},
   "outputs": [
    {
     "data": {
      "text/plain": [
       "Index(['PERMNO', 'DATE', 'RET', 'EXCHCD', 'MktCap', 'MktCap_FF', 'MktCap_CPI',\n",
       "       'MktCap_FF_CPI', 'Size', 'Size_FF', 'Size_CPI', 'Size_FF_CPI', 'beta',\n",
       "       'RF', 'ExRET', 'ExRET_t+1'],\n",
       "      dtype='object')"
      ]
     },
     "execution_count": 36,
     "metadata": {},
     "output_type": "execute_result"
    }
   ],
   "source": [
    "# 列信息\n",
    "imsf.columns"
   ]
  },
  {
   "cell_type": "code",
   "execution_count": 37,
   "metadata": {},
   "outputs": [
    {
     "name": "stdout",
     "output_type": "stream",
     "text": [
      "时间样本取样数： 602 时间跨度： 1970-10 至 2020-11\n"
     ]
    }
   ],
   "source": [
    "# 日期信息\n",
    "period=imsf.DATE.unique()\n",
    "period.sort()\n",
    "print('时间样本取样数：',len(period),'时间跨度：',pd.to_datetime(period[0]).strftime('%Y-%m'),'至',pd.to_datetime(period[-1]).strftime('%Y-%m'))"
   ]
  },
  {
   "cell_type": "code",
   "execution_count": 38,
   "metadata": {},
   "outputs": [],
   "source": [
    "# 保存数据\n",
    "imsf.to_csv(r\"C:\\Users\\86196\\Desktop\\资产定价复现\\data\\imsf.csv\",index=False)"
   ]
  }
 ],
 "metadata": {
  "kernelspec": {
   "display_name": "pystudy",
   "language": "python",
   "name": "python3"
  },
  "language_info": {
   "codemirror_mode": {
    "name": "ipython",
    "version": 3
   },
   "file_extension": ".py",
   "mimetype": "text/x-python",
   "name": "python",
   "nbconvert_exporter": "python",
   "pygments_lexer": "ipython3",
   "version": "3.7.16"
  },
  "orig_nbformat": 4
 },
 "nbformat": 4,
 "nbformat_minor": 2
}
